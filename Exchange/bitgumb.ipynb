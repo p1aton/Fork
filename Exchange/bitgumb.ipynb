{
 "cells": [
  {
   "cell_type": "code",
   "execution_count": 13,
   "metadata": {},
   "outputs": [
    {
     "name": "stdout",
     "output_type": "stream",
     "text": [
      "BTC 13946.062365390017 in USD\n",
      "ETH 1264.163311171458 in USD\n",
      "DASH 1016.9491525423728 in USD\n",
      "LTC 236.07079314542557 in USD\n",
      "ETC 36.52963760651746 in USD\n",
      "XRP 1.9739675999625432 in USD\n",
      "BCH 2163.123888004495 in USD\n",
      "XMR 394.231669631988 in USD\n",
      "ZEC 622.7174829103848 in USD\n",
      "BTG 210.0383931079689 in USD\n",
      "EOS 13.006835846053 in USD\n"
     ]
    }
   ],
   "source": [
    "import time\n",
    "import sys\n",
    "import websocket\n",
    "import psycopg2\n",
    "import psycopg2.extras\n",
    "#import config\n",
    "#conn_string = config.conn_string\n",
    "import requests\n",
    "from forex_python.converter import CurrencyRates \n",
    "c = CurrencyRates()\n",
    "\n",
    "while True:\n",
    "    start = time.time()\n",
    "    try:\n",
    "        conn = psycopg2.connect(conn_string)\n",
    "        cur = conn.cursor()\n",
    "        cur.execute(\"INSERT INTO wex_ts(ts) VALUES (CURRENT_TIMESTAMP);\")\n",
    "        cur.execute(\"SELECT CURRVAL('wex_ts_id_seq');\")\n",
    "        bithumb_id = cur.fetchone() #! may be another title\n",
    "        conn.commit()\n",
    "        cur.close()\n",
    "        conn.close()\n",
    "        bithumb_crypts = ['BTC', 'ETH', 'DASH', 'LTC', 'ETC', 'XRP', 'BCH', 'XMR', 'ZEC', 'BTG', 'EOS']\n",
    "\n",
    "\n",
    "\n",
    "        bithumb_basic_com = 0.0015\n",
    "        bithumb_out = {'krw':1000, 'btc': 0.003, 'eth':0.01, 'dsh': 0.01, 'ltc':0.01, 'etc': 0.01, 'rpl': 1, 'bch':0.005, 'xmr':0.05, 'zec':0.001}\n",
    "\n",
    "\n",
    "\n",
    "\n",
    "        for i in bithumb_crypts:\n",
    "            a1 = requests.get('https://api.bithumb.com/public/ticker/{}'.format(i), timeout = 1).json()\n",
    "            print(i, float(a1['data']['buy_price'])/c.get_rates('USD')['KRW'], 'in USD')"
   ]
  },
  {
   "cell_type": "code",
   "execution_count": 10,
   "metadata": {},
   "outputs": [
    {
     "name": "stdout",
     "output_type": "stream",
     "text": [
      "1067.9\n"
     ]
    }
   ],
   "source": [
    "from forex_python.converter import CurrencyRates \n",
    "c = CurrencyRates()\n",
    "print()"
   ]
  },
  {
   "cell_type": "code",
   "execution_count": 48,
   "metadata": {},
   "outputs": [
    {
     "name": "stdout",
     "output_type": "stream",
     "text": [
      "ETH {'opening_price': '1329500', 'closing_price': '1332000', 'min_price': '1207000', 'max_price': '1491000', 'average_price': '1335657.8137', 'units_traded': '280137.94374097731840884', 'volume_1day': '280137.94374097731840884', 'volume_7day': '1930627.981929428555773820', 'buy_price': '1332000', 'sell_price': '1334000', 'date': '1516318048875'}\n"
     ]
    }
   ],
   "source": [
    "bithumb_crypts = ['BTC', 'ETH', 'DASH', 'LTC', 'ETC', 'XRP', 'BCH', 'XMR', 'ZEC', 'BTG', 'EOS']\n",
    "a1 = requests.get('https://api.bithumb.com/public/ticker/{}'.format(bithumb_crypts[1]), timeout = 10).json()\n",
    "print(bithumb_crypts[1], a1['data'][])\n",
    "\n",
    "a1['data']['buy_price']\n",
    "a1['data']['sell_price']\n",
    "a1['data']['date']\n",
    "a1['data']['opening_price']\n",
    "a1['data']['closing_price']\n",
    "a1['data']['units_traded']\n",
    "\n"
   ]
  },
  {
   "cell_type": "code",
   "execution_count": null,
   "metadata": {
    "collapsed": true
   },
   "outputs": [],
   "source": []
  },
  {
   "cell_type": "code",
   "execution_count": null,
   "metadata": {
    "collapsed": true
   },
   "outputs": [],
   "source": []
  }
 ],
 "metadata": {
  "kernelspec": {
   "display_name": "Python 3",
   "language": "python",
   "name": "python3"
  },
  "language_info": {
   "codemirror_mode": {
    "name": "ipython",
    "version": 3
   },
   "file_extension": ".py",
   "mimetype": "text/x-python",
   "name": "python",
   "nbconvert_exporter": "python",
   "pygments_lexer": "ipython3",
   "version": "3.6.1"
  }
 },
 "nbformat": 4,
 "nbformat_minor": 2
}
