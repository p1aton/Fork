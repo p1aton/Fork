import re
import pandas as pd
import requests
from bs4 import  BeautifulSoup

#get list of cryptocurs
import requests
import re
from bs4 import BeautifulSoup
crypts = []
wsite = requests.get('https://bitinfocharts.com/comparison/btc-median_transaction_fee.html')
soup = BeautifulSoup(wsite.text, 'lxml')
s1 = soup.find('div', {'style':'margin-left:5px; clear:both; text-align:left;overflow: hidden; height:20px;'})
for s in s1:
    try:
        crypts.append(s['data-coin'])
    except:
        pass
print(crypts)
#create list of links
#crypt_links_med = []
#crypt_links_av = []
#for cry in crypts:
    #crypt_links_med.append('https://bitinfocharts.com/comparison/{}-median_transaction_fee.html'.format(cry))
    #crypt_links_av.append('https://bitinfocharts.com/comparison/{}-transactionfees.html'.format(cry))
    

def scrape_mining_fee(crypto_list):
    for crypto in crypto_list:
        
        crypto_link_med = 'https://bitinfocharts.com/comparison/{}-median_transaction_fee.html'.format(crypto)
        crypto_link_av = 'https://bitinfocharts.com/comparison/{}-transactionfees.html'.format(crypto)
        
        req_av = requests.get(crypto_link_av)
        req_med = requests.get(crypto_link_med)
        
        soup_av = BeautifulSoup(req_av.text, 'lxml')
        soup_med = BeautifulSoup(req_med.text, 'lxml')
        
        s1_av = re.findall(r"\[new Date(.*?)\]",str(soup_av))
        s1_med = re.findall(r"\[new Date(.*?)\]",str(soup_med))
        
        mining_fee_av = []
        for e in s1_av:
            e4 = e.replace('"', '').replace('/', '-').replace('(', '').replace(')', '').replace('null', '0')
            e5 = e4.split(',')
            mining_fee_av.append(e5)
        av = pd.DataFrame(mining_fee_av)
        return av
        
#        mining_fee_med = []
#        for e in s1_med:
#            e4 = e.replace('"', '').replace('/', '-').replace('(', '').replace(')', '').replace('null', '0')
#            e5 = e4.split(',')
#            mining_fee_med.append(e5)
#        med = pd.DataFrame(mining_fee_med)
        
